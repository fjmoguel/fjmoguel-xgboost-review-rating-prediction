{
 "cells": [
  {
   "cell_type": "markdown",
   "metadata": {},
   "source": [
    "# Libraries"
   ]
  },
  {
   "cell_type": "code",
   "execution_count": 1,
   "metadata": {},
   "outputs": [
    {
     "name": "stdout",
     "output_type": "stream",
     "text": [
      "Requirement already satisfied: xgboost in /Library/Frameworks/Python.framework/Versions/3.13/lib/python3.13/site-packages (2.1.2)\n",
      "Requirement already satisfied: numpy in /Library/Frameworks/Python.framework/Versions/3.13/lib/python3.13/site-packages (from xgboost) (2.1.2)\n",
      "Requirement already satisfied: scipy in /Library/Frameworks/Python.framework/Versions/3.13/lib/python3.13/site-packages (from xgboost) (1.14.1)\n",
      "Requirement already satisfied: xgboost in /Library/Frameworks/Python.framework/Versions/3.13/lib/python3.13/site-packages (2.1.2)\n",
      "Requirement already satisfied: numpy in /Library/Frameworks/Python.framework/Versions/3.13/lib/python3.13/site-packages (from xgboost) (2.1.2)\n",
      "Requirement already satisfied: scipy in /Library/Frameworks/Python.framework/Versions/3.13/lib/python3.13/site-packages (from xgboost) (1.14.1)\n"
     ]
    },
    {
     "name": "stderr",
     "output_type": "stream",
     "text": [
      "[nltk_data] Downloading package vader_lexicon to\n",
      "[nltk_data]     /Users/pacomoguel/nltk_data...\n",
      "[nltk_data]   Package vader_lexicon is already up-to-date!\n"
     ]
    },
    {
     "data": {
      "text/plain": [
       "True"
      ]
     },
     "execution_count": 1,
     "metadata": {},
     "output_type": "execute_result"
    }
   ],
   "source": [
    "import sys\n",
    "!{sys.executable} -m pip install xgboost\n",
    "!{sys.executable} -m pip install xgboost --upgrade\n",
    "import pickle\n",
    "import pandas as pd\n",
    "import seaborn as sns\n",
    "import matplotlib.pyplot as plt\n",
    "from os.path import exists\n",
    "from sklearn.model_selection import train_test_split, RandomizedSearchCV\n",
    "from sklearn.metrics import accuracy_score, confusion_matrix\n",
    "from sklearn.feature_extraction.text import TfidfVectorizer\n",
    "from sklearn.decomposition import TruncatedSVD\n",
    "from xgboost import XGBClassifier\n",
    "from imblearn.over_sampling import SMOTE\n",
    "from textblob import TextBlob\n",
    "from nltk.sentiment.vader import SentimentIntensityAnalyzer\n",
    "import scipy.sparse as sp\n",
    "import nltk\n",
    "nltk.download('vader_lexicon')\n"
   ]
  },
  {
   "cell_type": "markdown",
   "metadata": {},
   "source": [
    "# Loading the Files\n",
    "\n",
    "Download the csv files into the `data/` directory."
   ]
  },
  {
   "cell_type": "code",
   "execution_count": 2,
   "metadata": {},
   "outputs": [
    {
     "name": "stdout",
     "output_type": "stream",
     "text": [
      "train.csv shape is  (1697533, 9)\n",
      "test.csv shape is  (212192, 2)\n",
      "\n",
      "        Id   ProductId          UserId  HelpfulnessNumerator  \\\n",
      "0   914403  B0009W5KHM   AV6QDP8Q0ONK4                     2   \n",
      "1   354887  6303079709  A2I8RXJN80A2D2                     0   \n",
      "2  1407653  B004H0M2XC  A3FHV3RV8Z12E6                     0   \n",
      "3  1377458  B003ZJ9536  A12VLTA3ZHVPUY                     1   \n",
      "4   475323  630574453X  A13NM1PES9OXVN                     2   \n",
      "\n",
      "   HelpfulnessDenominator        Time  \\\n",
      "0                       2  1341014400   \n",
      "1                       0  1168819200   \n",
      "2                       0  1386201600   \n",
      "3                       1  1348704000   \n",
      "4                       3   970012800   \n",
      "\n",
      "                                         Summary  \\\n",
      "0                                  GOOD FUN FILM   \n",
      "1                                   Movie Review   \n",
      "2             When is it a good time to Consent?   \n",
      "3                                          TRUTH   \n",
      "4  Intelligent and bittersweet -- stays with you   \n",
      "\n",
      "                                                Text  Score  \n",
      "0  While most straight to DVD films are not worth...    5.0  \n",
      "1  I have wanted this one for sometime, also.  I ...    5.0  \n",
      "2  Actually this was a pretty darn good indie fil...    4.0  \n",
      "3  Episodes 37 to 72 of the series press on in a ...    5.0  \n",
      "4  I was really impressed with this movie, but wa...    3.0  \n",
      "\n",
      "        Id  Score\n",
      "0  1323432    NaN\n",
      "1  1137299    NaN\n",
      "2  1459366    NaN\n",
      "3   931601    NaN\n",
      "4  1311995    NaN\n",
      "\n",
      "                 Id  HelpfulnessNumerator  HelpfulnessDenominator  \\\n",
      "count  1.697533e+06          1.697533e+06            1.697533e+06   \n",
      "mean   8.487660e+05          3.569048e+00            5.301422e+00   \n",
      "std    4.900357e+05          1.727883e+01            2.024445e+01   \n",
      "min    0.000000e+00          0.000000e+00            0.000000e+00   \n",
      "25%    4.243830e+05          0.000000e+00            0.000000e+00   \n",
      "50%    8.487660e+05          1.000000e+00            1.000000e+00   \n",
      "75%    1.273149e+06          3.000000e+00            5.000000e+00   \n",
      "max    1.697532e+06          6.084000e+03            6.510000e+03   \n",
      "\n",
      "               Time         Score  \n",
      "count  1.697533e+06  1.485341e+06  \n",
      "mean   1.262422e+09  4.110517e+00  \n",
      "std    1.289277e+08  1.197651e+00  \n",
      "min    8.793792e+08  1.000000e+00  \n",
      "25%    1.164413e+09  4.000000e+00  \n",
      "50%    1.307491e+09  5.000000e+00  \n",
      "75%    1.373242e+09  5.000000e+00  \n",
      "max    1.406074e+09  5.000000e+00  \n"
     ]
    },
    {
     "data": {
      "image/png": "[encoded data removed]",
      "text/plain": [
       "<Figure size 640x480 with 1 Axes>"
      ]
     },
     "metadata": {},
     "output_type": "display_data"
    },
    {
     "name": "stdout",
     "output_type": "stream",
     "text": [
      "\n",
      "EVERYTHING IS PROPERLY SET UP! YOU ARE READY TO START\n"
     ]
    }
   ],
   "source": [
    "trainingSet = pd.read_csv(\"./data/train.csv\")\n",
    "testingSet = pd.read_csv(\"./data/test.csv\")\n",
    "\n",
    "print(\"train.csv shape is \", trainingSet.shape)\n",
    "print(\"test.csv shape is \", testingSet.shape)\n",
    "\n",
    "print()\n",
    "\n",
    "print(trainingSet.head())\n",
    "print()\n",
    "print(testingSet.head())\n",
    "\n",
    "print()\n",
    "\n",
    "print(trainingSet.describe())\n",
    "\n",
    "trainingSet['Score'].value_counts().plot(kind='bar', legend=True, alpha=.5)\n",
    "plt.show()\n",
    "\n",
    "print()\n",
    "print(\"EVERYTHING IS PROPERLY SET UP! YOU ARE READY TO START\")"
   ]
  },
  {
   "cell_type": "markdown",
   "metadata": {},
   "source": [
    "# Adding Features"
   ]
  },
  {
   "cell_type": "code",
   "execution_count": 3,
   "metadata": {},
   "outputs": [],
   "source": [
    "sid = SentimentIntensityAnalyzer()\n",
    "\n",
    "def add_features_to(df):\n",
    "    # This is where you can do all your feature extraction\n",
    "    # Helpfulness features\n",
    "    df['Helpfulness'] = df['HelpfulnessNumerator'] / df['HelpfulnessDenominator']\n",
    "    df['Helpfulness'] = df['Helpfulness'].fillna(0)\n",
    "    # Text features\n",
    "    df['ReviewLength'] = df['Text'].fillna('').apply(len)\n",
    "    df['SentimentScoreText'] = df['Text'].fillna('').apply(lambda text: sid.polarity_scores(text)['compound'])\n",
    "    # Time-based features\n",
    "    df['Year'] = pd.to_datetime(df['Time'], unit='s').dt.year\n",
    "    df['Month'] = pd.to_datetime(df['Time'], unit='s').dt.month\n",
    "    df['DayOfWeek'] = pd.to_datetime(df['Time'], unit='s').dt.dayofweek\n",
    "    df['ReviewAge'] = 2024 - df['Year']  # Assuming 2024 as current year\n",
    "    # Additional features based on summary sentiment and punctuation count\n",
    "    if 'Summary' in df.columns:\n",
    "        df['SentimentScoreSummary'] = df['Summary'].fillna('').apply(lambda text: sid.polarity_scores(text)['compound'])\n",
    "    df['QuestionCount'] = df['Text'].fillna('').apply(lambda text: text.count('?'))\n",
    "    df['ExclamationCount'] = df['Text'].fillna('').apply(lambda text: text.count('!'))\n",
    "    df['MeanRatingForMovie'] = df.groupby('ProductId')['Score'].transform('mean')\n",
    "\n",
    "    return df\n",
    "\n",
    "# Load the feature extracted files if they've already been generated\n",
    "if exists('./data/X_train.csv'):\n",
    "    X_train = pd.read_csv(\"./data/X_train.csv\")\n",
    "if exists('./data/X_submission.csv'):\n",
    "    X_submission = pd.read_csv(\"./data/X_submission.csv\")\n",
    "\n",
    "else:\n",
    "    # Process the DataFrame\n",
    "    train = add_features_to(trainingSet)\n",
    "    # Merge on Id so that the submission set can have feature columns as well\n",
    "    X_submission = pd.merge(train, testingSet, left_on='Id', right_on='Id')\n",
    "    X_submission = X_submission.drop(columns=['Score_x'])\n",
    "    X_submission = X_submission.rename(columns={'Score_y': 'Score'})\n",
    "\n",
    "    # The training set is where the score is not null\n",
    "    X_train =  train[train['Score'].notnull()]\n",
    "\n",
    "    X_submission.to_csv(\"./data/X_submission.csv\", index=False)\n",
    "    X_train.to_csv(\"./data/X_train.csv\", index=False)"
   ]
  },
  {
   "cell_type": "markdown",
   "metadata": {},
   "source": [
    "# LSA Implementtaion"
   ]
  },
  {
   "cell_type": "code",
   "execution_count": 4,
   "metadata": {},
   "outputs": [],
   "source": [
    "# TF-IDF and LSA Feature Extraction (BEFORE splitting into train/test sets)\n",
    "\n",
    "# Initialize TF-IDF with bigrams\n",
    "tfidf = TfidfVectorizer(ngram_range=(1, 2), max_features=10000, stop_words='english')\n",
    "\n",
    "# Apply TF-IDF on training set (full X_train before split)\n",
    "tfidf_matrix_train = tfidf.fit_transform(X_train['Text'].fillna(''))\n",
    "tfidf_matrix_submission = tfidf.transform(X_submission['Text'].fillna(''))\n",
    "\n",
    "# Apply LSA (SVD) to reduce dimensionality\n",
    "lsa = TruncatedSVD(n_components=150, random_state=42)\n",
    "lsa_features_train = lsa.fit_transform(tfidf_matrix_train)\n",
    "lsa_features_submission = lsa.transform(tfidf_matrix_submission)\n",
    "\n",
    "# Concatenate LSA features to the DataFrame\n",
    "lsa_train_df = pd.DataFrame(lsa_features_train, columns=[f'LSA_{i}' for i in range(lsa_features_train.shape[1])], index=X_train.index)\n",
    "lsa_submission_df = pd.DataFrame(lsa_features_submission, columns=[f'LSA_{i}' for i in range(lsa_features_submission.shape[1])], index=X_submission.index)\n",
    "\n",
    "# Merge LSA features into X_train and X_submission\n",
    "X_train = pd.concat([X_train, lsa_train_df], axis=1)\n",
    "X_submission = pd.concat([X_submission, lsa_submission_df], axis=1)\n"
   ]
  },
  {
   "cell_type": "markdown",
   "metadata": {},
   "source": [
    "# Sample + Split into training and testing set"
   ]
  },
  {
   "cell_type": "code",
   "execution_count": 5,
   "metadata": {},
   "outputs": [],
   "source": [
    "# Split training set into training and testing set\n",
    "X_train, X_test, Y_train, Y_test = train_test_split(\n",
    "    X_train.drop(columns=['Score']),\n",
    "    X_train['Score'],\n",
    "    test_size=1/4.0,\n",
    "    random_state=0\n",
    ")"
   ]
  },
  {
   "cell_type": "markdown",
   "metadata": {},
   "source": [
    "# Feature Selection"
   ]
  },
  {
   "cell_type": "code",
   "execution_count": 6,
   "metadata": {},
   "outputs": [],
   "source": [
    "# Define features to use\n",
    "features = ['HelpfulnessNumerator', 'HelpfulnessDenominator', 'Helpfulness', 'ReviewLength', 'SentimentScoreText',\n",
    "            'Year', 'Month', 'DayOfWeek', 'ReviewAge', 'SentimentScoreSummary', \n",
    "            'QuestionCount', 'ExclamationCount', 'MeanRatingForMovie'] + [f'LSA_{i}' for i in range(150)]\n",
    "\n",
    "X_train_select = X_train[features]\n",
    "X_test_select = X_test[features]\n",
    "X_submission_select = X_submission[features]"
   ]
  },
  {
   "cell_type": "markdown",
   "metadata": {},
   "source": [
    "# Sampling"
   ]
  },
  {
   "cell_type": "code",
   "execution_count": 7,
   "metadata": {},
   "outputs": [
    {
     "name": "stdout",
     "output_type": "stream",
     "text": [
      "Score\n",
      "5.0    595120\n",
      "2.0    595120\n",
      "1.0    595120\n",
      "4.0    595120\n",
      "3.0    595120\n",
      "Name: count, dtype: int64\n"
     ]
    }
   ],
   "source": [
    "# Apply SMOTE to oversample the minority classes\n",
    "oversample = SMOTE(random_state=42)\n",
    "X_train_balanced, Y_train_balanced = oversample.fit_resample(X_train_select, Y_train)\n",
    "\n",
    "# Check the class distribution after oversampling\n",
    "print(Y_train_balanced.value_counts())"
   ]
  },
  {
   "cell_type": "markdown",
   "metadata": {},
   "source": [
    "# Model Creation"
   ]
  },
  {
   "cell_type": "code",
   "execution_count": 8,
   "metadata": {},
   "outputs": [
    {
     "name": "stdout",
     "output_type": "stream",
     "text": [
      "Using predefined parameters: {'learning_rate': 0.3, 'gamma': 1, 'class_weights': {1: 1, 2: 1.001, 3: 1.12, 4: 1.215, 5: 1.07}}\n"
     ]
    }
   ],
   "source": [
    "from xgboost import XGBClassifier\n",
    "from sklearn.metrics import accuracy_score\n",
    "import seaborn as sns\n",
    "import matplotlib.pyplot as plt\n",
    "from sklearn.metrics import confusion_matrix\n",
    "\n",
    "# Set this to True if you want to perform hyperparameter tuning; otherwise, use predefined parameters\n",
    "tune_hyperparameters = False\n",
    "\n",
    "# Define default best parameters (if tuning is skipped)\n",
    "default_params = {\n",
    "    'learning_rate': 0.3,\n",
    "    'gamma': 1,\n",
    "    'class_weights': {1: 1, 2: 1.001, 3: 1.12, 4: 1.215, 5: 1.07}\n",
    "}\n",
    "\n",
    "# Track the best accuracy and parameters if tuning\n",
    "best_accuracy = 0\n",
    "best_params = default_params if not tune_hyperparameters else {}\n",
    "best_model = None\n",
    "\n",
    "if tune_hyperparameters:\n",
    "    # Define parameter grids for learning_rate, gamma, and class weights\n",
    "    learning_rates = [0.1, 0.3, 0.5]\n",
    "    gammas = [0.8, 1, 1.2]\n",
    "    class_weights_list = [\n",
    "        {1: 1, 2: 1.003, 3: 1.15, 4: 1.3, 5: 1.08},\n",
    "        {1: 1.2, 2: 1.15, 3: 1.25, 4: 1.3, 5: 1.08},\n",
    "        {1: 1.1, 2: 1.05, 3: 1.2, 4: 1.35, 5: 1.1}\n",
    "    ]\n",
    "\n",
    "    # Adjust labels for XGBoost compatibility\n",
    "    Y_train_balanced_shifted = Y_train_balanced.astype(int) - 1\n",
    "\n",
    "    # Loop through each combination of parameters\n",
    "    for lr in learning_rates:\n",
    "        for gamma_val in gammas:\n",
    "            for class_weights in class_weights_list:\n",
    "                # Map the weights to the training labels\n",
    "                sample_weights = Y_train_balanced.map(class_weights)\n",
    "\n",
    "                # Initialize model with current parameter combination\n",
    "                xgb_model = XGBClassifier(\n",
    "                    n_estimators=300,\n",
    "                    learning_rate=lr,\n",
    "                    gamma=gamma_val,\n",
    "                    n_jobs=-1,\n",
    "                    random_state=42\n",
    "                )\n",
    "\n",
    "                # Train the model\n",
    "                xgb_model.fit(X_train_balanced, Y_train_balanced_shifted, sample_weight=sample_weights)\n",
    "\n",
    "                # Predict on the test set and adjust back to 1-5 range\n",
    "                Y_test_predictions = xgb_model.predict(X_test_select) + 1\n",
    "\n",
    "                # Calculate accuracy\n",
    "                accuracy = accuracy_score(Y_test, Y_test_predictions)\n",
    "\n",
    "                # Update the best parameters if current accuracy is higher\n",
    "                if accuracy > best_accuracy:\n",
    "                    best_accuracy = accuracy\n",
    "                    best_params = {\n",
    "                        'learning_rate': lr,\n",
    "                        'gamma': gamma_val,\n",
    "                        'class_weights': class_weights\n",
    "                    }\n",
    "                    best_model = xgb_model  # Store the best model\n",
    "\n",
    "                print(f\"Learning Rate: {lr}, Gamma: {gamma_val}, Class Weights: {class_weights} => Accuracy: {accuracy}\")\n",
    "\n",
    "    print(\"Best Accuracy:\", best_accuracy)\n",
    "    print(\"Best Parameters:\", best_params)\n",
    "\n",
    "else:\n",
    "    # Use predefined parameters\n",
    "    print(\"Using predefined parameters:\", default_params)\n",
    "    sample_weights = Y_train_balanced.map(default_params['class_weights'])\n",
    "    Y_train_balanced_shifted = Y_train_balanced.astype(int) - 1\n",
    "\n",
    "    # Train the XGBClassifier with predefined parameters\n",
    "    best_model = XGBClassifier(\n",
    "        n_estimators=200,\n",
    "        learning_rate=default_params['learning_rate'],\n",
    "        gamma=default_params['gamma'],\n",
    "        n_jobs=-1,\n",
    "        random_state=42\n",
    "    )\n",
    "    best_model.fit(X_train_balanced, Y_train_balanced_shifted, sample_weight=sample_weights)\n",
    "\n",
    "# Evaluate the model on the test set\n",
    "Y_test_predictions_best = best_model.predict(X_test_select) + 1"
   ]
  },
  {
   "cell_type": "markdown",
   "metadata": {},
   "source": [
    "# Model Evaluation"
   ]
  },
  {
   "cell_type": "code",
   "execution_count": 9,
   "metadata": {},
   "outputs": [
    {
     "name": "stdout",
     "output_type": "stream",
     "text": [
      "Accuracy on testing set = 0.6179470883512507\n"
     ]
    },
    {
     "data": {
      "image/png": "[encoded data removed]",
      "text/plain": [
       "<Figure size 640x480 with 2 Axes>"
      ]
     },
     "metadata": {},
     "output_type": "display_data"
    }
   ],
   "source": [
    "# Evaluate the best model\n",
    "print(\"Accuracy on testing set =\", accuracy_score(Y_test, Y_test_predictions_best))\n",
    "\n",
    "# Plot the confusion matrix\n",
    "cm = confusion_matrix(Y_test, Y_test_predictions_best, normalize='true')\n",
    "sns.heatmap(cm, annot=True, cmap=\"Oranges\")\n",
    "plt.title('Confusion matrix of the classifier')\n",
    "plt.xlabel('Predicted')\n",
    "plt.ylabel('True')\n",
    "plt.show()"
   ]
  },
  {
   "cell_type": "markdown",
   "metadata": {},
   "source": [
    "# Create submission file"
   ]
  },
  {
   "cell_type": "code",
   "execution_count": 10,
   "metadata": {},
   "outputs": [],
   "source": [
    "# Use the best model to generate predictions for submission\n",
    "X_submission['Score'] = best_model.predict(X_submission_select) + 1  # Shift predictions back to 1-5\n",
    "submission = X_submission[['Id', 'Score']]\n",
    "submission.to_csv(\"./data/submission.csv\", index=False)"
   ]
  }
 ],
 "metadata": {
  "kernelspec": {
   "display_name": "Python 3",
   "language": "python",
   "name": "python3"
  },
  "language_info": {
   "codemirror_mode": {
    "name": "ipython",
    "version": 3
   },
   "file_extension": ".py",
   "mimetype": "text/x-python",
   "name": "python",
   "nbconvert_exporter": "python",
   "pygments_lexer": "ipython3",
   "version": "3.13.0"
  }
 },
 "nbformat": 4,
 "nbformat_minor": 2
}
